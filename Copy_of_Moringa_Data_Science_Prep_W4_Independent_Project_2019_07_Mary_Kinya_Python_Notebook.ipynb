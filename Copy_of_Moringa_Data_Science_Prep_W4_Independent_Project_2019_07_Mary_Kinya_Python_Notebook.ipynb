{
  "nbformat": 4,
  "nbformat_minor": 0,
  "metadata": {
    "colab": {
      "name": "Copy of Moringa_Data_Science_Prep_W4_Independent_Project_2019_07_Mary_Kinya_Python_Notebook.ipynb",
      "version": "0.3.2",
      "provenance": [],
      "collapsed_sections": [
        "8Qp8KVArOoT9",
        "QNb_vX_g6xo2"
      ],
      "include_colab_link": true
    },
    "kernelspec": {
      "name": "python3",
      "display_name": "Python 3"
    }
  },
  "cells": [
    {
      "cell_type": "markdown",
      "metadata": {
        "id": "view-in-github",
        "colab_type": "text"
      },
      "source": [
        "<a href=\"https://colab.research.google.com/github/Kinbloom/Moringa-Bluecars/blob/master/Copy_of_Moringa_Data_Science_Prep_W4_Independent_Project_2019_07_Mary_Kinya_Python_Notebook.ipynb\" target=\"_parent\"><img src=\"https://colab.research.google.com/assets/colab-badge.svg\" alt=\"Open In Colab\"/></a>"
      ]
    },
    {
      "cell_type": "markdown",
      "metadata": {
        "id": "8Qp8KVArOoT9",
        "colab_type": "text"
      },
      "source": [
        "###Load the Dataset"
      ]
    },
    {
      "cell_type": "markdown",
      "metadata": {
        "id": "mB2PGyxYhUOe",
        "colab_type": "text"
      },
      "source": [
        "Import the necessary libraries."
      ]
    },
    {
      "cell_type": "code",
      "metadata": {
        "id": "kFvyOG-0Osl0",
        "colab_type": "code",
        "colab": {}
      },
      "source": [
        "import pandas as pd\n",
        "import numpy as np"
      ],
      "execution_count": 0,
      "outputs": []
    },
    {
      "cell_type": "code",
      "metadata": {
        "id": "M9DY3paFOxxf",
        "colab_type": "code",
        "outputId": "71e02712-cab0-48be-c115-397c03a92edb",
        "colab": {
          "base_uri": "https://localhost:8080/",
          "height": 417
        }
      },
      "source": [
        "car_service_dataset = pd.read_csv('http://bit.ly/Autolibdataset')\n",
        "car_service_dataset.head()"
      ],
      "execution_count": 0,
      "outputs": [
        {
          "output_type": "execute_result",
          "data": {
            "text/html": [
              "<div>\n",
              "<style scoped>\n",
              "    .dataframe tbody tr th:only-of-type {\n",
              "        vertical-align: middle;\n",
              "    }\n",
              "\n",
              "    .dataframe tbody tr th {\n",
              "        vertical-align: top;\n",
              "    }\n",
              "\n",
              "    .dataframe thead th {\n",
              "        text-align: right;\n",
              "    }\n",
              "</style>\n",
              "<table border=\"1\" class=\"dataframe\">\n",
              "  <thead>\n",
              "    <tr style=\"text-align: right;\">\n",
              "      <th></th>\n",
              "      <th>Unnamed: 0</th>\n",
              "      <th>Address</th>\n",
              "      <th>Cars</th>\n",
              "      <th>Bluecar counter</th>\n",
              "      <th>Utilib counter</th>\n",
              "      <th>Utilib 1.4 counter</th>\n",
              "      <th>Charge Slots</th>\n",
              "      <th>Charging Status</th>\n",
              "      <th>City</th>\n",
              "      <th>Displayed comment</th>\n",
              "      <th>ID</th>\n",
              "      <th>Kind</th>\n",
              "      <th>Geo point</th>\n",
              "      <th>Postal code</th>\n",
              "      <th>Public name</th>\n",
              "      <th>Rental status</th>\n",
              "      <th>Scheduled at</th>\n",
              "      <th>Slots</th>\n",
              "      <th>Station type</th>\n",
              "      <th>Status</th>\n",
              "      <th>Subscription status</th>\n",
              "      <th>year</th>\n",
              "      <th>month</th>\n",
              "      <th>day</th>\n",
              "      <th>hour</th>\n",
              "      <th>minute</th>\n",
              "    </tr>\n",
              "  </thead>\n",
              "  <tbody>\n",
              "    <tr>\n",
              "      <th>0</th>\n",
              "      <td>0</td>\n",
              "      <td>24 Rue Vulpian</td>\n",
              "      <td>3</td>\n",
              "      <td>3</td>\n",
              "      <td>1</td>\n",
              "      <td>0</td>\n",
              "      <td>1</td>\n",
              "      <td>operational</td>\n",
              "      <td>Paris</td>\n",
              "      <td>NaN</td>\n",
              "      <td>paris-vulpian-24</td>\n",
              "      <td>STATION</td>\n",
              "      <td>48.8310493, 2.3460584</td>\n",
              "      <td>75013</td>\n",
              "      <td>Paris/Vulpian/24</td>\n",
              "      <td>operational</td>\n",
              "      <td>NaN</td>\n",
              "      <td>1</td>\n",
              "      <td>station</td>\n",
              "      <td>ok</td>\n",
              "      <td>nonexistent</td>\n",
              "      <td>2018</td>\n",
              "      <td>4</td>\n",
              "      <td>1</td>\n",
              "      <td>0</td>\n",
              "      <td>0</td>\n",
              "    </tr>\n",
              "    <tr>\n",
              "      <th>1</th>\n",
              "      <td>1</td>\n",
              "      <td>8 Boulevard Richard Lenoir</td>\n",
              "      <td>0</td>\n",
              "      <td>0</td>\n",
              "      <td>0</td>\n",
              "      <td>0</td>\n",
              "      <td>1</td>\n",
              "      <td>operational</td>\n",
              "      <td>Paris</td>\n",
              "      <td>NaN</td>\n",
              "      <td>paris-richardlenoir-8</td>\n",
              "      <td>STATION</td>\n",
              "      <td>48.8545026, 2.370183</td>\n",
              "      <td>75011</td>\n",
              "      <td>Paris/Richard Lenoir/8</td>\n",
              "      <td>operational</td>\n",
              "      <td>NaN</td>\n",
              "      <td>3</td>\n",
              "      <td>station</td>\n",
              "      <td>ok</td>\n",
              "      <td>nonexistent</td>\n",
              "      <td>2018</td>\n",
              "      <td>4</td>\n",
              "      <td>1</td>\n",
              "      <td>0</td>\n",
              "      <td>0</td>\n",
              "    </tr>\n",
              "    <tr>\n",
              "      <th>2</th>\n",
              "      <td>2</td>\n",
              "      <td>4 Rue Charles Bossut</td>\n",
              "      <td>3</td>\n",
              "      <td>3</td>\n",
              "      <td>0</td>\n",
              "      <td>0</td>\n",
              "      <td>1</td>\n",
              "      <td>operational</td>\n",
              "      <td>Paris</td>\n",
              "      <td>NaN</td>\n",
              "      <td>paris-charlesbossut-4</td>\n",
              "      <td>STATION</td>\n",
              "      <td>48.8431847, 2.3837959</td>\n",
              "      <td>75012</td>\n",
              "      <td>Paris/Charles Bossut/4</td>\n",
              "      <td>operational</td>\n",
              "      <td>NaN</td>\n",
              "      <td>2</td>\n",
              "      <td>station</td>\n",
              "      <td>ok</td>\n",
              "      <td>nonexistent</td>\n",
              "      <td>2018</td>\n",
              "      <td>4</td>\n",
              "      <td>1</td>\n",
              "      <td>0</td>\n",
              "      <td>0</td>\n",
              "    </tr>\n",
              "    <tr>\n",
              "      <th>3</th>\n",
              "      <td>3</td>\n",
              "      <td>3 avenue Claude Vellefaux</td>\n",
              "      <td>4</td>\n",
              "      <td>4</td>\n",
              "      <td>0</td>\n",
              "      <td>0</td>\n",
              "      <td>0</td>\n",
              "      <td>operational</td>\n",
              "      <td>Paris</td>\n",
              "      <td>NaN</td>\n",
              "      <td>paris-claudevellefaux-3</td>\n",
              "      <td>STATION</td>\n",
              "      <td>48.8740623, 2.3703034</td>\n",
              "      <td>75010</td>\n",
              "      <td>Paris/Claude Vellefaux/3</td>\n",
              "      <td>operational</td>\n",
              "      <td>NaN</td>\n",
              "      <td>1</td>\n",
              "      <td>station</td>\n",
              "      <td>ok</td>\n",
              "      <td>nonexistent</td>\n",
              "      <td>2018</td>\n",
              "      <td>4</td>\n",
              "      <td>1</td>\n",
              "      <td>0</td>\n",
              "      <td>0</td>\n",
              "    </tr>\n",
              "    <tr>\n",
              "      <th>4</th>\n",
              "      <td>4</td>\n",
              "      <td>236 Boulevard Voltaire</td>\n",
              "      <td>1</td>\n",
              "      <td>1</td>\n",
              "      <td>0</td>\n",
              "      <td>0</td>\n",
              "      <td>1</td>\n",
              "      <td>operational</td>\n",
              "      <td>Paris</td>\n",
              "      <td>NaN</td>\n",
              "      <td>paris-voltaire-236</td>\n",
              "      <td>STATION</td>\n",
              "      <td>48.852023, 2.389719</td>\n",
              "      <td>75011</td>\n",
              "      <td>Paris/Voltaire/236</td>\n",
              "      <td>operational</td>\n",
              "      <td>NaN</td>\n",
              "      <td>4</td>\n",
              "      <td>station</td>\n",
              "      <td>ok</td>\n",
              "      <td>nonexistent</td>\n",
              "      <td>2018</td>\n",
              "      <td>4</td>\n",
              "      <td>1</td>\n",
              "      <td>0</td>\n",
              "      <td>0</td>\n",
              "    </tr>\n",
              "  </tbody>\n",
              "</table>\n",
              "</div>"
            ],
            "text/plain": [
              "   Unnamed: 0                     Address  Cars  ...  day  hour  minute\n",
              "0           0              24 Rue Vulpian     3  ...    1     0       0\n",
              "1           1  8 Boulevard Richard Lenoir     0  ...    1     0       0\n",
              "2           2        4 Rue Charles Bossut     3  ...    1     0       0\n",
              "3           3   3 avenue Claude Vellefaux     4  ...    1     0       0\n",
              "4           4      236 Boulevard Voltaire     1  ...    1     0       0\n",
              "\n",
              "[5 rows x 26 columns]"
            ]
          },
          "metadata": {
            "tags": []
          },
          "execution_count": 2
        }
      ]
    },
    {
      "cell_type": "code",
      "metadata": {
        "id": "pCHPFw53Pfd4",
        "colab_type": "code",
        "colab": {}
      },
      "source": [
        "#Convert the dataset to a csv file to avoid consantly reloading the dataset.\n",
        "\n",
        "car_service_csv = car_service_dataset.to_csv('car_service.csv',encoding='utf-8',index=False)"
      ],
      "execution_count": 0,
      "outputs": []
    },
    {
      "cell_type": "code",
      "metadata": {
        "id": "FaNs2NL7RpHh",
        "colab_type": "code",
        "outputId": "67f7294c-5edc-45ad-d951-0d5645219165",
        "colab": {
          "base_uri": "https://localhost:8080/",
          "height": 417
        }
      },
      "source": [
        "#Load the dataframe from the csv file and proceed from there.\n",
        "\n",
        "car_service_dataset = pd.read_csv('car_service.csv')\n",
        "car_service_dataset.head()"
      ],
      "execution_count": 0,
      "outputs": [
        {
          "output_type": "execute_result",
          "data": {
            "text/html": [
              "<div>\n",
              "<style scoped>\n",
              "    .dataframe tbody tr th:only-of-type {\n",
              "        vertical-align: middle;\n",
              "    }\n",
              "\n",
              "    .dataframe tbody tr th {\n",
              "        vertical-align: top;\n",
              "    }\n",
              "\n",
              "    .dataframe thead th {\n",
              "        text-align: right;\n",
              "    }\n",
              "</style>\n",
              "<table border=\"1\" class=\"dataframe\">\n",
              "  <thead>\n",
              "    <tr style=\"text-align: right;\">\n",
              "      <th></th>\n",
              "      <th>Unnamed: 0</th>\n",
              "      <th>Address</th>\n",
              "      <th>Cars</th>\n",
              "      <th>Bluecar counter</th>\n",
              "      <th>Utilib counter</th>\n",
              "      <th>Utilib 1.4 counter</th>\n",
              "      <th>Charge Slots</th>\n",
              "      <th>Charging Status</th>\n",
              "      <th>City</th>\n",
              "      <th>Displayed comment</th>\n",
              "      <th>ID</th>\n",
              "      <th>Kind</th>\n",
              "      <th>Geo point</th>\n",
              "      <th>Postal code</th>\n",
              "      <th>Public name</th>\n",
              "      <th>Rental status</th>\n",
              "      <th>Scheduled at</th>\n",
              "      <th>Slots</th>\n",
              "      <th>Station type</th>\n",
              "      <th>Status</th>\n",
              "      <th>Subscription status</th>\n",
              "      <th>year</th>\n",
              "      <th>month</th>\n",
              "      <th>day</th>\n",
              "      <th>hour</th>\n",
              "      <th>minute</th>\n",
              "    </tr>\n",
              "  </thead>\n",
              "  <tbody>\n",
              "    <tr>\n",
              "      <th>0</th>\n",
              "      <td>0</td>\n",
              "      <td>24 Rue Vulpian</td>\n",
              "      <td>3</td>\n",
              "      <td>3</td>\n",
              "      <td>1</td>\n",
              "      <td>0</td>\n",
              "      <td>1</td>\n",
              "      <td>operational</td>\n",
              "      <td>Paris</td>\n",
              "      <td>NaN</td>\n",
              "      <td>paris-vulpian-24</td>\n",
              "      <td>STATION</td>\n",
              "      <td>48.8310493, 2.3460584</td>\n",
              "      <td>75013</td>\n",
              "      <td>Paris/Vulpian/24</td>\n",
              "      <td>operational</td>\n",
              "      <td>NaN</td>\n",
              "      <td>1</td>\n",
              "      <td>station</td>\n",
              "      <td>ok</td>\n",
              "      <td>nonexistent</td>\n",
              "      <td>2018</td>\n",
              "      <td>4</td>\n",
              "      <td>1</td>\n",
              "      <td>0</td>\n",
              "      <td>0</td>\n",
              "    </tr>\n",
              "    <tr>\n",
              "      <th>1</th>\n",
              "      <td>1</td>\n",
              "      <td>8 Boulevard Richard Lenoir</td>\n",
              "      <td>0</td>\n",
              "      <td>0</td>\n",
              "      <td>0</td>\n",
              "      <td>0</td>\n",
              "      <td>1</td>\n",
              "      <td>operational</td>\n",
              "      <td>Paris</td>\n",
              "      <td>NaN</td>\n",
              "      <td>paris-richardlenoir-8</td>\n",
              "      <td>STATION</td>\n",
              "      <td>48.8545026, 2.370183</td>\n",
              "      <td>75011</td>\n",
              "      <td>Paris/Richard Lenoir/8</td>\n",
              "      <td>operational</td>\n",
              "      <td>NaN</td>\n",
              "      <td>3</td>\n",
              "      <td>station</td>\n",
              "      <td>ok</td>\n",
              "      <td>nonexistent</td>\n",
              "      <td>2018</td>\n",
              "      <td>4</td>\n",
              "      <td>1</td>\n",
              "      <td>0</td>\n",
              "      <td>0</td>\n",
              "    </tr>\n",
              "    <tr>\n",
              "      <th>2</th>\n",
              "      <td>2</td>\n",
              "      <td>4 Rue Charles Bossut</td>\n",
              "      <td>3</td>\n",
              "      <td>3</td>\n",
              "      <td>0</td>\n",
              "      <td>0</td>\n",
              "      <td>1</td>\n",
              "      <td>operational</td>\n",
              "      <td>Paris</td>\n",
              "      <td>NaN</td>\n",
              "      <td>paris-charlesbossut-4</td>\n",
              "      <td>STATION</td>\n",
              "      <td>48.8431847, 2.3837959</td>\n",
              "      <td>75012</td>\n",
              "      <td>Paris/Charles Bossut/4</td>\n",
              "      <td>operational</td>\n",
              "      <td>NaN</td>\n",
              "      <td>2</td>\n",
              "      <td>station</td>\n",
              "      <td>ok</td>\n",
              "      <td>nonexistent</td>\n",
              "      <td>2018</td>\n",
              "      <td>4</td>\n",
              "      <td>1</td>\n",
              "      <td>0</td>\n",
              "      <td>0</td>\n",
              "    </tr>\n",
              "    <tr>\n",
              "      <th>3</th>\n",
              "      <td>3</td>\n",
              "      <td>3 avenue Claude Vellefaux</td>\n",
              "      <td>4</td>\n",
              "      <td>4</td>\n",
              "      <td>0</td>\n",
              "      <td>0</td>\n",
              "      <td>0</td>\n",
              "      <td>operational</td>\n",
              "      <td>Paris</td>\n",
              "      <td>NaN</td>\n",
              "      <td>paris-claudevellefaux-3</td>\n",
              "      <td>STATION</td>\n",
              "      <td>48.8740623, 2.3703034</td>\n",
              "      <td>75010</td>\n",
              "      <td>Paris/Claude Vellefaux/3</td>\n",
              "      <td>operational</td>\n",
              "      <td>NaN</td>\n",
              "      <td>1</td>\n",
              "      <td>station</td>\n",
              "      <td>ok</td>\n",
              "      <td>nonexistent</td>\n",
              "      <td>2018</td>\n",
              "      <td>4</td>\n",
              "      <td>1</td>\n",
              "      <td>0</td>\n",
              "      <td>0</td>\n",
              "    </tr>\n",
              "    <tr>\n",
              "      <th>4</th>\n",
              "      <td>4</td>\n",
              "      <td>236 Boulevard Voltaire</td>\n",
              "      <td>1</td>\n",
              "      <td>1</td>\n",
              "      <td>0</td>\n",
              "      <td>0</td>\n",
              "      <td>1</td>\n",
              "      <td>operational</td>\n",
              "      <td>Paris</td>\n",
              "      <td>NaN</td>\n",
              "      <td>paris-voltaire-236</td>\n",
              "      <td>STATION</td>\n",
              "      <td>48.852023, 2.389719</td>\n",
              "      <td>75011</td>\n",
              "      <td>Paris/Voltaire/236</td>\n",
              "      <td>operational</td>\n",
              "      <td>NaN</td>\n",
              "      <td>4</td>\n",
              "      <td>station</td>\n",
              "      <td>ok</td>\n",
              "      <td>nonexistent</td>\n",
              "      <td>2018</td>\n",
              "      <td>4</td>\n",
              "      <td>1</td>\n",
              "      <td>0</td>\n",
              "      <td>0</td>\n",
              "    </tr>\n",
              "  </tbody>\n",
              "</table>\n",
              "</div>"
            ],
            "text/plain": [
              "   Unnamed: 0                     Address  Cars  ...  day  hour  minute\n",
              "0           0              24 Rue Vulpian     3  ...    1     0       0\n",
              "1           1  8 Boulevard Richard Lenoir     0  ...    1     0       0\n",
              "2           2        4 Rue Charles Bossut     3  ...    1     0       0\n",
              "3           3   3 avenue Claude Vellefaux     4  ...    1     0       0\n",
              "4           4      236 Boulevard Voltaire     1  ...    1     0       0\n",
              "\n",
              "[5 rows x 26 columns]"
            ]
          },
          "metadata": {
            "tags": []
          },
          "execution_count": 6
        }
      ]
    },
    {
      "cell_type": "markdown",
      "metadata": {
        "id": "ME969Ef4SWZL",
        "colab_type": "text"
      },
      "source": [
        "### Cleaning the dataset"
      ]
    },
    {
      "cell_type": "markdown",
      "metadata": {
        "id": "j5D-8Ft9SZ6c",
        "colab_type": "text"
      },
      "source": [
        "What columns do I need for my analysis process?\n",
        "*   Unnamed: 0\n",
        "*   Cars (Since it is basically a duplicate of the bluecars counter, it can be dropped)\n",
        "*   Charge Slots\n",
        "*  Charging Status\n",
        "*  Displayed comment\n",
        "*  Geo point\n",
        "*  Scheduled at\n",
        "*  ID\n",
        "*  Rental \n",
        "*  Slots\n",
        "*  year\n",
        "*  month\n",
        "*  minute\n",
        "\n"
      ]
    },
    {
      "cell_type": "code",
      "metadata": {
        "id": "8Wj55RwdT6I-",
        "colab_type": "code",
        "colab": {}
      },
      "source": [
        "car_service = car_service_dataset.drop(['Unnamed: 0','Charge Slots','Charging Status','Rental status','Slots','year','month','minute','Cars','Displayed comment','Geo point','Scheduled at','ID'],axis=1)"
      ],
      "execution_count": 0,
      "outputs": []
    },
    {
      "cell_type": "code",
      "metadata": {
        "id": "GPXhVuTeU30N",
        "colab_type": "code",
        "outputId": "8a03b884-ba55-4a40-8914-b46bfdcf510a",
        "colab": {
          "base_uri": "https://localhost:8080/",
          "height": 246
        }
      },
      "source": [
        "car_service.head()"
      ],
      "execution_count": 0,
      "outputs": [
        {
          "output_type": "execute_result",
          "data": {
            "text/html": [
              "<div>\n",
              "<style scoped>\n",
              "    .dataframe tbody tr th:only-of-type {\n",
              "        vertical-align: middle;\n",
              "    }\n",
              "\n",
              "    .dataframe tbody tr th {\n",
              "        vertical-align: top;\n",
              "    }\n",
              "\n",
              "    .dataframe thead th {\n",
              "        text-align: right;\n",
              "    }\n",
              "</style>\n",
              "<table border=\"1\" class=\"dataframe\">\n",
              "  <thead>\n",
              "    <tr style=\"text-align: right;\">\n",
              "      <th></th>\n",
              "      <th>Address</th>\n",
              "      <th>Bluecar counter</th>\n",
              "      <th>Utilib counter</th>\n",
              "      <th>Utilib 1.4 counter</th>\n",
              "      <th>City</th>\n",
              "      <th>Kind</th>\n",
              "      <th>Postal code</th>\n",
              "      <th>Public name</th>\n",
              "      <th>Station type</th>\n",
              "      <th>Status</th>\n",
              "      <th>Subscription status</th>\n",
              "      <th>day</th>\n",
              "      <th>hour</th>\n",
              "    </tr>\n",
              "  </thead>\n",
              "  <tbody>\n",
              "    <tr>\n",
              "      <th>0</th>\n",
              "      <td>24 Rue Vulpian</td>\n",
              "      <td>3</td>\n",
              "      <td>1</td>\n",
              "      <td>0</td>\n",
              "      <td>Paris</td>\n",
              "      <td>STATION</td>\n",
              "      <td>75013</td>\n",
              "      <td>Paris/Vulpian/24</td>\n",
              "      <td>station</td>\n",
              "      <td>ok</td>\n",
              "      <td>nonexistent</td>\n",
              "      <td>1</td>\n",
              "      <td>0</td>\n",
              "    </tr>\n",
              "    <tr>\n",
              "      <th>1</th>\n",
              "      <td>8 Boulevard Richard Lenoir</td>\n",
              "      <td>0</td>\n",
              "      <td>0</td>\n",
              "      <td>0</td>\n",
              "      <td>Paris</td>\n",
              "      <td>STATION</td>\n",
              "      <td>75011</td>\n",
              "      <td>Paris/Richard Lenoir/8</td>\n",
              "      <td>station</td>\n",
              "      <td>ok</td>\n",
              "      <td>nonexistent</td>\n",
              "      <td>1</td>\n",
              "      <td>0</td>\n",
              "    </tr>\n",
              "    <tr>\n",
              "      <th>2</th>\n",
              "      <td>4 Rue Charles Bossut</td>\n",
              "      <td>3</td>\n",
              "      <td>0</td>\n",
              "      <td>0</td>\n",
              "      <td>Paris</td>\n",
              "      <td>STATION</td>\n",
              "      <td>75012</td>\n",
              "      <td>Paris/Charles Bossut/4</td>\n",
              "      <td>station</td>\n",
              "      <td>ok</td>\n",
              "      <td>nonexistent</td>\n",
              "      <td>1</td>\n",
              "      <td>0</td>\n",
              "    </tr>\n",
              "    <tr>\n",
              "      <th>3</th>\n",
              "      <td>3 avenue Claude Vellefaux</td>\n",
              "      <td>4</td>\n",
              "      <td>0</td>\n",
              "      <td>0</td>\n",
              "      <td>Paris</td>\n",
              "      <td>STATION</td>\n",
              "      <td>75010</td>\n",
              "      <td>Paris/Claude Vellefaux/3</td>\n",
              "      <td>station</td>\n",
              "      <td>ok</td>\n",
              "      <td>nonexistent</td>\n",
              "      <td>1</td>\n",
              "      <td>0</td>\n",
              "    </tr>\n",
              "    <tr>\n",
              "      <th>4</th>\n",
              "      <td>236 Boulevard Voltaire</td>\n",
              "      <td>1</td>\n",
              "      <td>0</td>\n",
              "      <td>0</td>\n",
              "      <td>Paris</td>\n",
              "      <td>STATION</td>\n",
              "      <td>75011</td>\n",
              "      <td>Paris/Voltaire/236</td>\n",
              "      <td>station</td>\n",
              "      <td>ok</td>\n",
              "      <td>nonexistent</td>\n",
              "      <td>1</td>\n",
              "      <td>0</td>\n",
              "    </tr>\n",
              "  </tbody>\n",
              "</table>\n",
              "</div>"
            ],
            "text/plain": [
              "                      Address  Bluecar counter  ...  day  hour\n",
              "0              24 Rue Vulpian                3  ...    1     0\n",
              "1  8 Boulevard Richard Lenoir                0  ...    1     0\n",
              "2        4 Rue Charles Bossut                3  ...    1     0\n",
              "3   3 avenue Claude Vellefaux                4  ...    1     0\n",
              "4      236 Boulevard Voltaire                1  ...    1     0\n",
              "\n",
              "[5 rows x 13 columns]"
            ]
          },
          "metadata": {
            "tags": []
          },
          "execution_count": 8
        }
      ]
    },
    {
      "cell_type": "markdown",
      "metadata": {
        "id": "90O3LQzPVQgi",
        "colab_type": "text"
      },
      "source": [
        "Quick analysis of the dataset"
      ]
    },
    {
      "cell_type": "code",
      "metadata": {
        "id": "0AyWI-6TVHed",
        "colab_type": "code",
        "outputId": "6bd9a0e6-a3dc-4da3-9953-dfe307daa86e",
        "colab": {
          "base_uri": "https://localhost:8080/",
          "height": 319
        }
      },
      "source": [
        "car_service.info()"
      ],
      "execution_count": 0,
      "outputs": [
        {
          "output_type": "stream",
          "text": [
            "<class 'pandas.core.frame.DataFrame'>\n",
            "RangeIndex: 14421829 entries, 0 to 14421828\n",
            "Data columns (total 13 columns):\n",
            "Address                object\n",
            "Bluecar counter        int64\n",
            "Utilib counter         int64\n",
            "Utilib 1.4 counter     int64\n",
            "City                   object\n",
            "Kind                   object\n",
            "Postal code            int64\n",
            "Public name            object\n",
            "Station type           object\n",
            "Status                 object\n",
            "Subscription status    object\n",
            "day                    int64\n",
            "hour                   int64\n",
            "dtypes: int64(6), object(7)\n",
            "memory usage: 1.4+ GB\n"
          ],
          "name": "stdout"
        }
      ]
    },
    {
      "cell_type": "code",
      "metadata": {
        "id": "dQGvsfx_VllI",
        "colab_type": "code",
        "outputId": "e4280ab6-c468-4a23-9ca0-edc5eae63abc",
        "colab": {
          "base_uri": "https://localhost:8080/",
          "height": 34
        }
      },
      "source": [
        "car_service.shape"
      ],
      "execution_count": 0,
      "outputs": [
        {
          "output_type": "execute_result",
          "data": {
            "text/plain": [
              "(14421829, 20)"
            ]
          },
          "metadata": {
            "tags": []
          },
          "execution_count": 10
        }
      ]
    },
    {
      "cell_type": "markdown",
      "metadata": {
        "id": "eBTUzIeVV5hq",
        "colab_type": "text"
      },
      "source": [
        "Testing for accuracy involves double - checking whether the Cars column matches the Bluecars counter column"
      ]
    },
    {
      "cell_type": "code",
      "metadata": {
        "id": "SPQJtt9EVrf-",
        "colab_type": "code",
        "outputId": "755a7c81-dc54-47a4-c007-03864e46ff7f",
        "colab": {
          "base_uri": "https://localhost:8080/",
          "height": 101
        }
      },
      "source": [
        "car_service_dataset[~(car_service_dataset.Cars == car_service_dataset['Bluecar counter'])]"
      ],
      "execution_count": 0,
      "outputs": [
        {
          "output_type": "execute_result",
          "data": {
            "text/html": [
              "<div>\n",
              "<style scoped>\n",
              "    .dataframe tbody tr th:only-of-type {\n",
              "        vertical-align: middle;\n",
              "    }\n",
              "\n",
              "    .dataframe tbody tr th {\n",
              "        vertical-align: top;\n",
              "    }\n",
              "\n",
              "    .dataframe thead th {\n",
              "        text-align: right;\n",
              "    }\n",
              "</style>\n",
              "<table border=\"1\" class=\"dataframe\">\n",
              "  <thead>\n",
              "    <tr style=\"text-align: right;\">\n",
              "      <th></th>\n",
              "      <th>Unnamed: 0</th>\n",
              "      <th>Address</th>\n",
              "      <th>Cars</th>\n",
              "      <th>Bluecar counter</th>\n",
              "      <th>Utilib counter</th>\n",
              "      <th>Utilib 1.4 counter</th>\n",
              "      <th>Charge Slots</th>\n",
              "      <th>Charging Status</th>\n",
              "      <th>City</th>\n",
              "      <th>Displayed comment</th>\n",
              "      <th>ID</th>\n",
              "      <th>Kind</th>\n",
              "      <th>Geo point</th>\n",
              "      <th>Postal code</th>\n",
              "      <th>Public name</th>\n",
              "      <th>Rental status</th>\n",
              "      <th>Scheduled at</th>\n",
              "      <th>Slots</th>\n",
              "      <th>Station type</th>\n",
              "      <th>Status</th>\n",
              "      <th>Subscription status</th>\n",
              "      <th>year</th>\n",
              "      <th>month</th>\n",
              "      <th>day</th>\n",
              "      <th>hour</th>\n",
              "      <th>minute</th>\n",
              "    </tr>\n",
              "  </thead>\n",
              "  <tbody>\n",
              "  </tbody>\n",
              "</table>\n",
              "</div>"
            ],
            "text/plain": [
              "Empty DataFrame\n",
              "Columns: [Unnamed: 0, Address, Cars, Bluecar counter, Utilib counter, Utilib 1.4 counter, Charge Slots, Charging Status, City, Displayed comment, ID, Kind, Geo point, Postal code, Public name, Rental status, Scheduled at, Slots, Station type, Status, Subscription status, year, month, day, hour, minute]\n",
              "Index: []"
            ]
          },
          "metadata": {
            "tags": []
          },
          "execution_count": 12
        }
      ]
    },
    {
      "cell_type": "markdown",
      "metadata": {
        "id": "26Ankh_9W1s8",
        "colab_type": "text"
      },
      "source": [
        "Lack of values shows redundancy hence it was right to drop that column."
      ]
    },
    {
      "cell_type": "markdown",
      "metadata": {
        "id": "ug1OWDXVXYuB",
        "colab_type": "text"
      },
      "source": [
        "Identify duplicate rows and drop them thereafter."
      ]
    },
    {
      "cell_type": "code",
      "metadata": {
        "id": "Lz8UiWr1WoD0",
        "colab_type": "code",
        "outputId": "7f915b38-23ed-4903-8022-8c4e022b37d3",
        "colab": {
          "base_uri": "https://localhost:8080/",
          "height": 350
        }
      },
      "source": [
        "car_service[car_service.duplicated()].head()"
      ],
      "execution_count": 0,
      "outputs": [
        {
          "output_type": "execute_result",
          "data": {
            "text/html": [
              "<div>\n",
              "<style scoped>\n",
              "    .dataframe tbody tr th:only-of-type {\n",
              "        vertical-align: middle;\n",
              "    }\n",
              "\n",
              "    .dataframe tbody tr th {\n",
              "        vertical-align: top;\n",
              "    }\n",
              "\n",
              "    .dataframe thead th {\n",
              "        text-align: right;\n",
              "    }\n",
              "</style>\n",
              "<table border=\"1\" class=\"dataframe\">\n",
              "  <thead>\n",
              "    <tr style=\"text-align: right;\">\n",
              "      <th></th>\n",
              "      <th>Address</th>\n",
              "      <th>Bluecar counter</th>\n",
              "      <th>Utilib counter</th>\n",
              "      <th>Utilib 1.4 counter</th>\n",
              "      <th>Charge Slots</th>\n",
              "      <th>Charging Status</th>\n",
              "      <th>City</th>\n",
              "      <th>Kind</th>\n",
              "      <th>Postal code</th>\n",
              "      <th>Public name</th>\n",
              "      <th>Rental status</th>\n",
              "      <th>Slots</th>\n",
              "      <th>Station type</th>\n",
              "      <th>Status</th>\n",
              "      <th>Subscription status</th>\n",
              "      <th>year</th>\n",
              "      <th>month</th>\n",
              "      <th>day</th>\n",
              "      <th>hour</th>\n",
              "      <th>minute</th>\n",
              "    </tr>\n",
              "  </thead>\n",
              "  <tbody>\n",
              "    <tr>\n",
              "      <th>1119</th>\n",
              "      <td>43 Rue de Monceau</td>\n",
              "      <td>0</td>\n",
              "      <td>0</td>\n",
              "      <td>0</td>\n",
              "      <td>2</td>\n",
              "      <td>operational</td>\n",
              "      <td>Paris</td>\n",
              "      <td>STATION</td>\n",
              "      <td>75008</td>\n",
              "      <td>Paris/Monceau/43</td>\n",
              "      <td>operational</td>\n",
              "      <td>6</td>\n",
              "      <td>station</td>\n",
              "      <td>ok</td>\n",
              "      <td>nonexistent</td>\n",
              "      <td>2018</td>\n",
              "      <td>4</td>\n",
              "      <td>1</td>\n",
              "      <td>0</td>\n",
              "      <td>0</td>\n",
              "    </tr>\n",
              "    <tr>\n",
              "      <th>1120</th>\n",
              "      <td>330 rue des PyrÃ©nÃ©es</td>\n",
              "      <td>2</td>\n",
              "      <td>0</td>\n",
              "      <td>0</td>\n",
              "      <td>1</td>\n",
              "      <td>operational</td>\n",
              "      <td>Paris</td>\n",
              "      <td>SPACE</td>\n",
              "      <td>75020</td>\n",
              "      <td>Paris/PyrÃ©nÃ©es/330</td>\n",
              "      <td>operational</td>\n",
              "      <td>3</td>\n",
              "      <td>full_station</td>\n",
              "      <td>ok</td>\n",
              "      <td>operational</td>\n",
              "      <td>2018</td>\n",
              "      <td>4</td>\n",
              "      <td>1</td>\n",
              "      <td>0</td>\n",
              "      <td>0</td>\n",
              "    </tr>\n",
              "    <tr>\n",
              "      <th>1121</th>\n",
              "      <td>28 Avenue de la Porte de Villiers</td>\n",
              "      <td>2</td>\n",
              "      <td>0</td>\n",
              "      <td>0</td>\n",
              "      <td>1</td>\n",
              "      <td>operational</td>\n",
              "      <td>Paris</td>\n",
              "      <td>STATION</td>\n",
              "      <td>75017</td>\n",
              "      <td>Paris/Porte de Villiers/28</td>\n",
              "      <td>operational</td>\n",
              "      <td>4</td>\n",
              "      <td>station</td>\n",
              "      <td>ok</td>\n",
              "      <td>nonexistent</td>\n",
              "      <td>2018</td>\n",
              "      <td>4</td>\n",
              "      <td>1</td>\n",
              "      <td>0</td>\n",
              "      <td>0</td>\n",
              "    </tr>\n",
              "    <tr>\n",
              "      <th>1122</th>\n",
              "      <td>97 Rue de Charenton</td>\n",
              "      <td>1</td>\n",
              "      <td>0</td>\n",
              "      <td>0</td>\n",
              "      <td>0</td>\n",
              "      <td>operational</td>\n",
              "      <td>Paris</td>\n",
              "      <td>STATION</td>\n",
              "      <td>75012</td>\n",
              "      <td>Paris/Charenton/97</td>\n",
              "      <td>operational</td>\n",
              "      <td>2</td>\n",
              "      <td>station</td>\n",
              "      <td>ok</td>\n",
              "      <td>nonexistent</td>\n",
              "      <td>2018</td>\n",
              "      <td>4</td>\n",
              "      <td>1</td>\n",
              "      <td>0</td>\n",
              "      <td>0</td>\n",
              "    </tr>\n",
              "    <tr>\n",
              "      <th>1123</th>\n",
              "      <td>17 boulevard Saint-Martin</td>\n",
              "      <td>2</td>\n",
              "      <td>0</td>\n",
              "      <td>0</td>\n",
              "      <td>0</td>\n",
              "      <td>nonexistent</td>\n",
              "      <td>Paris</td>\n",
              "      <td>STATION</td>\n",
              "      <td>75003</td>\n",
              "      <td>Paris/Saint-Martin/17</td>\n",
              "      <td>operational</td>\n",
              "      <td>1</td>\n",
              "      <td>station</td>\n",
              "      <td>ok</td>\n",
              "      <td>nonexistent</td>\n",
              "      <td>2018</td>\n",
              "      <td>4</td>\n",
              "      <td>1</td>\n",
              "      <td>0</td>\n",
              "      <td>0</td>\n",
              "    </tr>\n",
              "  </tbody>\n",
              "</table>\n",
              "</div>"
            ],
            "text/plain": [
              "                                Address  Bluecar counter  ...  hour  minute\n",
              "1119                  43 Rue de Monceau                0  ...     0       0\n",
              "1120             330 rue des PyrÃ©nÃ©es                2  ...     0       0\n",
              "1121  28 Avenue de la Porte de Villiers                2  ...     0       0\n",
              "1122                97 Rue de Charenton                1  ...     0       0\n",
              "1123          17 boulevard Saint-Martin                2  ...     0       0\n",
              "\n",
              "[5 rows x 20 columns]"
            ]
          },
          "metadata": {
            "tags": []
          },
          "execution_count": 13
        }
      ]
    },
    {
      "cell_type": "code",
      "metadata": {
        "id": "yOCpbLflYMgY",
        "colab_type": "code",
        "colab": {}
      },
      "source": [
        "car_service = car_service.drop_duplicates()"
      ],
      "execution_count": 0,
      "outputs": []
    },
    {
      "cell_type": "code",
      "metadata": {
        "id": "v2fdEFenYker",
        "colab_type": "code",
        "outputId": "ccd0e857-5ef9-4c08-c8bf-db020e714494",
        "colab": {
          "base_uri": "https://localhost:8080/",
          "height": 34
        }
      },
      "source": [
        "car_service.shape"
      ],
      "execution_count": 0,
      "outputs": [
        {
          "output_type": "execute_result",
          "data": {
            "text/plain": [
              "(14278939, 20)"
            ]
          },
          "metadata": {
            "tags": []
          },
          "execution_count": 15
        }
      ]
    },
    {
      "cell_type": "markdown",
      "metadata": {
        "id": "REKboxlye5cr",
        "colab_type": "text"
      },
      "source": [
        "Checking for null values"
      ]
    },
    {
      "cell_type": "code",
      "metadata": {
        "id": "2cfraM6tYuyl",
        "colab_type": "code",
        "outputId": "a7d8055b-88d1-42e4-8f71-c93419742da4",
        "colab": {
          "base_uri": "https://localhost:8080/",
          "height": 252
        }
      },
      "source": [
        "# Checking for null values\n",
        "\n",
        "car_service.isnull().sum()"
      ],
      "execution_count": 0,
      "outputs": [
        {
          "output_type": "execute_result",
          "data": {
            "text/plain": [
              "Address                0\n",
              "Bluecar counter        0\n",
              "Utilib counter         0\n",
              "Utilib 1.4 counter     0\n",
              "City                   0\n",
              "Kind                   0\n",
              "Postal code            0\n",
              "Public name            0\n",
              "Station type           0\n",
              "Status                 0\n",
              "Subscription status    0\n",
              "day                    0\n",
              "hour                   0\n",
              "dtype: int64"
            ]
          },
          "metadata": {
            "tags": []
          },
          "execution_count": 11
        }
      ]
    },
    {
      "cell_type": "markdown",
      "metadata": {
        "id": "GBfah7XqhpvN",
        "colab_type": "text"
      },
      "source": [
        "Changing the case of column names to lower, stripping whitespaces, removing periods and replacing spaces with underscore"
      ]
    },
    {
      "cell_type": "code",
      "metadata": {
        "id": "ZcYYKpPDfLsU",
        "colab_type": "code",
        "outputId": "bc7feb1b-abe4-4478-bd6b-afa4e4189669",
        "colab": {
          "base_uri": "https://localhost:8080/",
          "height": 84
        }
      },
      "source": [
        "car_service.columns = car_service.columns.str.lower().str.strip().str.replace(' ', '_').str.replace('.', '')\n",
        "\n",
        "car_service.columns"
      ],
      "execution_count": 0,
      "outputs": [
        {
          "output_type": "execute_result",
          "data": {
            "text/plain": [
              "Index(['address', 'bluecar_counter', 'utilib_counter', 'utilib_14_counter',\n",
              "       'city', 'kind', 'postal_code', 'public_name', 'station_type', 'status',\n",
              "       'subscription_status', 'day', 'hour'],\n",
              "      dtype='object')"
            ]
          },
          "metadata": {
            "tags": []
          },
          "execution_count": 12
        }
      ]
    },
    {
      "cell_type": "markdown",
      "metadata": {
        "id": "UlL3tPVEhzaz",
        "colab_type": "text"
      },
      "source": [
        "Adding a use column for the three car counters (bluecar_counter, utilib_counter and utilib_14_counter)\n",
        "\n",
        "+ve number means that a car was returned\n",
        "-ve number means that a car was picked\n",
        "0 means that nothing happened, i.e no car was picked nor returned"
      ]
    },
    {
      "cell_type": "code",
      "metadata": {
        "id": "J739qCSqflx1",
        "colab_type": "code",
        "colab": {}
      },
      "source": [
        "#Creating column for bluecar usage\n",
        "car_service['bluecar_use'] = car_service.bluecar_counter.diff()\n",
        "\n",
        "#Creating column for utilib usage\n",
        "car_service['utilib_use'] = car_service.utilib_counter.diff()\n",
        "\n",
        "#Creating column for utilib 14 usage\n",
        "car_service['utilib_14_use'] = car_service.utilib_14_counter.diff()"
      ],
      "execution_count": 0,
      "outputs": []
    },
    {
      "cell_type": "code",
      "metadata": {
        "id": "lLzScl9HgA70",
        "colab_type": "code",
        "outputId": "677509fe-988a-42ae-c27a-d53bca098244",
        "colab": {
          "base_uri": "https://localhost:8080/",
          "height": 383
        }
      },
      "source": [
        "car_service.head()"
      ],
      "execution_count": 0,
      "outputs": [
        {
          "output_type": "execute_result",
          "data": {
            "text/html": [
              "<div>\n",
              "<style scoped>\n",
              "    .dataframe tbody tr th:only-of-type {\n",
              "        vertical-align: middle;\n",
              "    }\n",
              "\n",
              "    .dataframe tbody tr th {\n",
              "        vertical-align: top;\n",
              "    }\n",
              "\n",
              "    .dataframe thead th {\n",
              "        text-align: right;\n",
              "    }\n",
              "</style>\n",
              "<table border=\"1\" class=\"dataframe\">\n",
              "  <thead>\n",
              "    <tr style=\"text-align: right;\">\n",
              "      <th></th>\n",
              "      <th>address</th>\n",
              "      <th>bluecar_counter</th>\n",
              "      <th>utilib_counter</th>\n",
              "      <th>utilib_14_counter</th>\n",
              "      <th>city</th>\n",
              "      <th>kind</th>\n",
              "      <th>postal_code</th>\n",
              "      <th>public_name</th>\n",
              "      <th>station_type</th>\n",
              "      <th>status</th>\n",
              "      <th>subscription_status</th>\n",
              "      <th>day</th>\n",
              "      <th>hour</th>\n",
              "      <th>bluecar_use</th>\n",
              "      <th>utilib_use</th>\n",
              "      <th>utilib_14_use</th>\n",
              "    </tr>\n",
              "  </thead>\n",
              "  <tbody>\n",
              "    <tr>\n",
              "      <th>0</th>\n",
              "      <td>24 Rue Vulpian</td>\n",
              "      <td>3</td>\n",
              "      <td>1</td>\n",
              "      <td>0</td>\n",
              "      <td>Paris</td>\n",
              "      <td>STATION</td>\n",
              "      <td>75013</td>\n",
              "      <td>Paris/Vulpian/24</td>\n",
              "      <td>station</td>\n",
              "      <td>ok</td>\n",
              "      <td>nonexistent</td>\n",
              "      <td>1</td>\n",
              "      <td>0</td>\n",
              "      <td>NaN</td>\n",
              "      <td>NaN</td>\n",
              "      <td>NaN</td>\n",
              "    </tr>\n",
              "    <tr>\n",
              "      <th>1</th>\n",
              "      <td>8 Boulevard Richard Lenoir</td>\n",
              "      <td>0</td>\n",
              "      <td>0</td>\n",
              "      <td>0</td>\n",
              "      <td>Paris</td>\n",
              "      <td>STATION</td>\n",
              "      <td>75011</td>\n",
              "      <td>Paris/Richard Lenoir/8</td>\n",
              "      <td>station</td>\n",
              "      <td>ok</td>\n",
              "      <td>nonexistent</td>\n",
              "      <td>1</td>\n",
              "      <td>0</td>\n",
              "      <td>-3.0</td>\n",
              "      <td>-1.0</td>\n",
              "      <td>0.0</td>\n",
              "    </tr>\n",
              "    <tr>\n",
              "      <th>2</th>\n",
              "      <td>4 Rue Charles Bossut</td>\n",
              "      <td>3</td>\n",
              "      <td>0</td>\n",
              "      <td>0</td>\n",
              "      <td>Paris</td>\n",
              "      <td>STATION</td>\n",
              "      <td>75012</td>\n",
              "      <td>Paris/Charles Bossut/4</td>\n",
              "      <td>station</td>\n",
              "      <td>ok</td>\n",
              "      <td>nonexistent</td>\n",
              "      <td>1</td>\n",
              "      <td>0</td>\n",
              "      <td>3.0</td>\n",
              "      <td>0.0</td>\n",
              "      <td>0.0</td>\n",
              "    </tr>\n",
              "    <tr>\n",
              "      <th>3</th>\n",
              "      <td>3 avenue Claude Vellefaux</td>\n",
              "      <td>4</td>\n",
              "      <td>0</td>\n",
              "      <td>0</td>\n",
              "      <td>Paris</td>\n",
              "      <td>STATION</td>\n",
              "      <td>75010</td>\n",
              "      <td>Paris/Claude Vellefaux/3</td>\n",
              "      <td>station</td>\n",
              "      <td>ok</td>\n",
              "      <td>nonexistent</td>\n",
              "      <td>1</td>\n",
              "      <td>0</td>\n",
              "      <td>1.0</td>\n",
              "      <td>0.0</td>\n",
              "      <td>0.0</td>\n",
              "    </tr>\n",
              "    <tr>\n",
              "      <th>4</th>\n",
              "      <td>236 Boulevard Voltaire</td>\n",
              "      <td>1</td>\n",
              "      <td>0</td>\n",
              "      <td>0</td>\n",
              "      <td>Paris</td>\n",
              "      <td>STATION</td>\n",
              "      <td>75011</td>\n",
              "      <td>Paris/Voltaire/236</td>\n",
              "      <td>station</td>\n",
              "      <td>ok</td>\n",
              "      <td>nonexistent</td>\n",
              "      <td>1</td>\n",
              "      <td>0</td>\n",
              "      <td>-3.0</td>\n",
              "      <td>0.0</td>\n",
              "      <td>0.0</td>\n",
              "    </tr>\n",
              "  </tbody>\n",
              "</table>\n",
              "</div>"
            ],
            "text/plain": [
              "                      address  bluecar_counter  ...  utilib_use  utilib_14_use\n",
              "0              24 Rue Vulpian                3  ...         NaN            NaN\n",
              "1  8 Boulevard Richard Lenoir                0  ...        -1.0            0.0\n",
              "2        4 Rue Charles Bossut                3  ...         0.0            0.0\n",
              "3   3 avenue Claude Vellefaux                4  ...         0.0            0.0\n",
              "4      236 Boulevard Voltaire                1  ...         0.0            0.0\n",
              "\n",
              "[5 rows x 16 columns]"
            ]
          },
          "metadata": {
            "tags": []
          },
          "execution_count": 15
        }
      ]
    },
    {
      "cell_type": "markdown",
      "metadata": {
        "id": "ZOr0KO1WiZ-c",
        "colab_type": "text"
      },
      "source": [
        "# Analysis Questions"
      ]
    },
    {
      "cell_type": "markdown",
      "metadata": {
        "id": "QNb_vX_g6xo2",
        "colab_type": "text"
      },
      "source": [
        "## Bluecars Analysis"
      ]
    },
    {
      "cell_type": "markdown",
      "metadata": {
        "id": "_Glu7gJgisqE",
        "colab_type": "text"
      },
      "source": [
        "#### What is the most popular hour of the day for picking up a shared electric car in the city of Paris over the month of April 2018 ? (Specifically Bluecars)"
      ]
    },
    {
      "cell_type": "code",
      "metadata": {
        "id": "CrrMY-eMnQnl",
        "colab_type": "code",
        "outputId": "68c7170a-0717-4339-bc31-cc0dca0889b6",
        "colab": {
          "base_uri": "https://localhost:8080/",
          "height": 50
        }
      },
      "source": [
        "car_service.bluecar_use.unique()"
      ],
      "execution_count": 0,
      "outputs": [
        {
          "output_type": "execute_result",
          "data": {
            "text/plain": [
              "array([nan, -3.,  3.,  1.,  0., -1.,  4., -2., -5.,  2.,  5.,  6., -4.,\n",
              "       -6., -7.,  7.])"
            ]
          },
          "metadata": {
            "tags": []
          },
          "execution_count": 34
        }
      ]
    },
    {
      "cell_type": "code",
      "metadata": {
        "id": "YLAifZzig374",
        "colab_type": "code",
        "outputId": "7e95aa54-9a81-40fb-e4f1-dd5061133fac",
        "colab": {
          "base_uri": "https://localhost:8080/",
          "height": 67
        }
      },
      "source": [
        "car_service[(car_service.city == 'Paris') & (car_service.bluecar_use == -7.0)].groupby('hour')['hour'].count().sort_values(ascending = False).head(1)"
      ],
      "execution_count": 0,
      "outputs": [
        {
          "output_type": "execute_result",
          "data": {
            "text/plain": [
              "hour\n",
              "13    15\n",
              "Name: hour, dtype: int64"
            ]
          },
          "metadata": {
            "tags": []
          },
          "execution_count": 36
        }
      ]
    },
    {
      "cell_type": "markdown",
      "metadata": {
        "id": "nGyvykyikQ-G",
        "colab_type": "text"
      },
      "source": [
        "The most popular hour of the day for picking cars is when the difference is at maximum (-7) is 1300 hours (Basically 1p.m.)"
      ]
    },
    {
      "cell_type": "markdown",
      "metadata": {
        "id": "fCcwvA1Sn5LG",
        "colab_type": "text"
      },
      "source": [
        "#### What is the most popular hour for returning cars?"
      ]
    },
    {
      "cell_type": "code",
      "metadata": {
        "id": "z3qjO0AgkaWC",
        "colab_type": "code",
        "outputId": "7d992c63-9c8d-4637-b1c6-916a9ea0c138",
        "colab": {
          "base_uri": "https://localhost:8080/",
          "height": 67
        }
      },
      "source": [
        "car_service[car_service.bluecar_use == 7.].groupby('hour')['hour'].count().sort_values(ascending = False).head(1)"
      ],
      "execution_count": 0,
      "outputs": [
        {
          "output_type": "execute_result",
          "data": {
            "text/plain": [
              "hour\n",
              "4    37\n",
              "Name: hour, dtype: int64"
            ]
          },
          "metadata": {
            "tags": []
          },
          "execution_count": 37
        }
      ]
    },
    {
      "cell_type": "markdown",
      "metadata": {
        "id": "6SaDVSAxoYHf",
        "colab_type": "text"
      },
      "source": [
        "The most popular hour for returning cars is when the difference is at the highest possible positive difference (7.0) is 0400 hours (Basically 4a.m.)"
      ]
    },
    {
      "cell_type": "markdown",
      "metadata": {
        "id": "YwFG8zpbpBSf",
        "colab_type": "text"
      },
      "source": [
        "#### What station is the most popular overall ?"
      ]
    },
    {
      "cell_type": "code",
      "metadata": {
        "id": "wdAm2XY3oUbl",
        "colab_type": "code",
        "outputId": "ff8d80bb-0fd0-47ff-d08d-c0fe2796d519",
        "colab": {
          "base_uri": "https://localhost:8080/",
          "height": 106
        }
      },
      "source": [
        "car_service[(car_service.kind == 'STATION') & (car_service.status == 'ok')].groupby('public_name')[['kind']].count().sort_values(by = 'kind', ascending  = False).head(1)"
      ],
      "execution_count": 0,
      "outputs": [
        {
          "output_type": "execute_result",
          "data": {
            "text/html": [
              "<div>\n",
              "<style scoped>\n",
              "    .dataframe tbody tr th:only-of-type {\n",
              "        vertical-align: middle;\n",
              "    }\n",
              "\n",
              "    .dataframe tbody tr th {\n",
              "        vertical-align: top;\n",
              "    }\n",
              "\n",
              "    .dataframe thead th {\n",
              "        text-align: right;\n",
              "    }\n",
              "</style>\n",
              "<table border=\"1\" class=\"dataframe\">\n",
              "  <thead>\n",
              "    <tr style=\"text-align: right;\">\n",
              "      <th></th>\n",
              "      <th>kind</th>\n",
              "    </tr>\n",
              "    <tr>\n",
              "      <th>public_name</th>\n",
              "      <th></th>\n",
              "    </tr>\n",
              "  </thead>\n",
              "  <tbody>\n",
              "    <tr>\n",
              "      <th>Boulogne-Billancourt/Jean JaurÃ¨s/245</th>\n",
              "      <td>606</td>\n",
              "    </tr>\n",
              "  </tbody>\n",
              "</table>\n",
              "</div>"
            ],
            "text/plain": [
              "                                       kind\n",
              "public_name                                \n",
              "Boulogne-Billancourt/Jean JaurÃ¨s/245   606"
            ]
          },
          "metadata": {
            "tags": []
          },
          "execution_count": 38
        }
      ]
    },
    {
      "cell_type": "markdown",
      "metadata": {
        "id": "zqF8085JpdBB",
        "colab_type": "text"
      },
      "source": [
        "The most popular station overall is Boulogne-Billancourt /Jean JaurA s/245"
      ]
    },
    {
      "cell_type": "markdown",
      "metadata": {
        "id": "Ok3usO9epsgw",
        "colab_type": "text"
      },
      "source": [
        "#### What is the most popular station at the most popular hour ?"
      ]
    },
    {
      "cell_type": "code",
      "metadata": {
        "id": "aiFBX_7XpYOY",
        "colab_type": "code",
        "outputId": "b1b79f8c-0920-4817-f525-840499e21ea2",
        "colab": {
          "base_uri": "https://localhost:8080/",
          "height": 106
        }
      },
      "source": [
        "car_service[(car_service.kind == 'STATION') & (car_service.hour == 13)  & (car_service.status == 'ok')].groupby('public_name').count()[['kind']].sort_values(by = 'kind', ascending = False).head(1)"
      ],
      "execution_count": 0,
      "outputs": [
        {
          "output_type": "execute_result",
          "data": {
            "text/html": [
              "<div>\n",
              "<style scoped>\n",
              "    .dataframe tbody tr th:only-of-type {\n",
              "        vertical-align: middle;\n",
              "    }\n",
              "\n",
              "    .dataframe tbody tr th {\n",
              "        vertical-align: top;\n",
              "    }\n",
              "\n",
              "    .dataframe thead th {\n",
              "        text-align: right;\n",
              "    }\n",
              "</style>\n",
              "<table border=\"1\" class=\"dataframe\">\n",
              "  <thead>\n",
              "    <tr style=\"text-align: right;\">\n",
              "      <th></th>\n",
              "      <th>kind</th>\n",
              "    </tr>\n",
              "    <tr>\n",
              "      <th>public_name</th>\n",
              "      <th></th>\n",
              "    </tr>\n",
              "  </thead>\n",
              "  <tbody>\n",
              "    <tr>\n",
              "      <th>Paris/Exelmans/32</th>\n",
              "      <td>31</td>\n",
              "    </tr>\n",
              "  </tbody>\n",
              "</table>\n",
              "</div>"
            ],
            "text/plain": [
              "                   kind\n",
              "public_name            \n",
              "Paris/Exelmans/32    31"
            ]
          },
          "metadata": {
            "tags": []
          },
          "execution_count": 40
        }
      ]
    },
    {
      "cell_type": "markdown",
      "metadata": {
        "id": "8ygduT3bqXg7",
        "colab_type": "text"
      },
      "source": [
        "The most popular station at the most popular picking hour is Paris/Exelmans/32"
      ]
    },
    {
      "cell_type": "markdown",
      "metadata": {
        "id": "teZdZeWeqtYm",
        "colab_type": "text"
      },
      "source": [
        "#### What postal code is most popular when picking up Bluecars ?"
      ]
    },
    {
      "cell_type": "code",
      "metadata": {
        "id": "KmV5aTkxqQvY",
        "colab_type": "code",
        "outputId": "430d7741-9413-4ba6-957b-a1630c3a0b06",
        "colab": {
          "base_uri": "https://localhost:8080/",
          "height": 106
        }
      },
      "source": [
        "car_service[car_service.bluecar_use < 0].groupby('postal_code').count()[['bluecar_use']].sort_values(by = 'bluecar_use', ascending = False).head(1)"
      ],
      "execution_count": 0,
      "outputs": [
        {
          "output_type": "execute_result",
          "data": {
            "text/html": [
              "<div>\n",
              "<style scoped>\n",
              "    .dataframe tbody tr th:only-of-type {\n",
              "        vertical-align: middle;\n",
              "    }\n",
              "\n",
              "    .dataframe tbody tr th {\n",
              "        vertical-align: top;\n",
              "    }\n",
              "\n",
              "    .dataframe thead th {\n",
              "        text-align: right;\n",
              "    }\n",
              "</style>\n",
              "<table border=\"1\" class=\"dataframe\">\n",
              "  <thead>\n",
              "    <tr style=\"text-align: right;\">\n",
              "      <th></th>\n",
              "      <th>bluecar_use</th>\n",
              "    </tr>\n",
              "    <tr>\n",
              "      <th>postal_code</th>\n",
              "      <th></th>\n",
              "    </tr>\n",
              "  </thead>\n",
              "  <tbody>\n",
              "    <tr>\n",
              "      <th>75015</th>\n",
              "      <td>9816</td>\n",
              "    </tr>\n",
              "  </tbody>\n",
              "</table>\n",
              "</div>"
            ],
            "text/plain": [
              "             bluecar_use\n",
              "postal_code             \n",
              "75015               9816"
            ]
          },
          "metadata": {
            "tags": []
          },
          "execution_count": 43
        }
      ]
    },
    {
      "cell_type": "markdown",
      "metadata": {
        "id": "dHswLTkhYpNj",
        "colab_type": "text"
      },
      "source": [
        "#### What postal code is the most popular for picking up Bluecars at the most popular picking hour?"
      ]
    },
    {
      "cell_type": "code",
      "metadata": {
        "id": "_9dJGZRlreiF",
        "colab_type": "code",
        "outputId": "e730168a-0d90-4dad-df06-e7dac3855431",
        "colab": {
          "base_uri": "https://localhost:8080/",
          "height": 106
        }
      },
      "source": [
        "car_service[(car_service.bluecar_use < 0) & (car_service.hour == 13)].groupby('postal_code').count()[['bluecar_use']].sort_values(by = 'bluecar_use', ascending = False).head(1)"
      ],
      "execution_count": 0,
      "outputs": [
        {
          "output_type": "execute_result",
          "data": {
            "text/html": [
              "<div>\n",
              "<style scoped>\n",
              "    .dataframe tbody tr th:only-of-type {\n",
              "        vertical-align: middle;\n",
              "    }\n",
              "\n",
              "    .dataframe tbody tr th {\n",
              "        vertical-align: top;\n",
              "    }\n",
              "\n",
              "    .dataframe thead th {\n",
              "        text-align: right;\n",
              "    }\n",
              "</style>\n",
              "<table border=\"1\" class=\"dataframe\">\n",
              "  <thead>\n",
              "    <tr style=\"text-align: right;\">\n",
              "      <th></th>\n",
              "      <th>bluecar_use</th>\n",
              "    </tr>\n",
              "    <tr>\n",
              "      <th>postal_code</th>\n",
              "      <th></th>\n",
              "    </tr>\n",
              "  </thead>\n",
              "  <tbody>\n",
              "    <tr>\n",
              "      <th>75015</th>\n",
              "      <td>473</td>\n",
              "    </tr>\n",
              "  </tbody>\n",
              "</table>\n",
              "</div>"
            ],
            "text/plain": [
              "             bluecar_use\n",
              "postal_code             \n",
              "75015                473"
            ]
          },
          "metadata": {
            "tags": []
          },
          "execution_count": 46
        }
      ]
    },
    {
      "cell_type": "markdown",
      "metadata": {
        "id": "7H1fa7WRsGUO",
        "colab_type": "text"
      },
      "source": [
        "#### Does the most popular station belong to that postal code overall ?"
      ]
    },
    {
      "cell_type": "code",
      "metadata": {
        "id": "eO0fdA06rwS0",
        "colab_type": "code",
        "outputId": "e6f23967-4f8a-43f4-c43f-d8882a6b66a7",
        "colab": {
          "base_uri": "https://localhost:8080/",
          "height": 77
        }
      },
      "source": [
        "car_service[car_service.public_name == 'Boulogne-Billancourt/Jean JaurÃ¨s/245'][['public_name', 'postal_code']].head(1)"
      ],
      "execution_count": 0,
      "outputs": [
        {
          "output_type": "execute_result",
          "data": {
            "text/html": [
              "<div>\n",
              "<style scoped>\n",
              "    .dataframe tbody tr th:only-of-type {\n",
              "        vertical-align: middle;\n",
              "    }\n",
              "\n",
              "    .dataframe tbody tr th {\n",
              "        vertical-align: top;\n",
              "    }\n",
              "\n",
              "    .dataframe thead th {\n",
              "        text-align: right;\n",
              "    }\n",
              "</style>\n",
              "<table border=\"1\" class=\"dataframe\">\n",
              "  <thead>\n",
              "    <tr style=\"text-align: right;\">\n",
              "      <th></th>\n",
              "      <th>public_name</th>\n",
              "      <th>postal_code</th>\n",
              "    </tr>\n",
              "  </thead>\n",
              "  <tbody>\n",
              "    <tr>\n",
              "      <th>522</th>\n",
              "      <td>Boulogne-Billancourt/Jean JaurÃ¨s/245</td>\n",
              "      <td>92100</td>\n",
              "    </tr>\n",
              "  </tbody>\n",
              "</table>\n",
              "</div>"
            ],
            "text/plain": [
              "                               public_name  postal_code\n",
              "522  Boulogne-Billancourt/Jean JaurÃ¨s/245        92100"
            ]
          },
          "metadata": {
            "tags": []
          },
          "execution_count": 47
        }
      ]
    },
    {
      "cell_type": "markdown",
      "metadata": {
        "id": "Gt-JDgb9ss49",
        "colab_type": "text"
      },
      "source": [
        "The most popular station does not belong to that postal code."
      ]
    },
    {
      "cell_type": "markdown",
      "metadata": {
        "id": "Lf8PmlaRtMGJ",
        "colab_type": "text"
      },
      "source": [
        "#### Does the most popular station belong to that postal code at the most popular picking hour?"
      ]
    },
    {
      "cell_type": "code",
      "metadata": {
        "id": "dHaPBes6snx7",
        "colab_type": "code",
        "outputId": "738178f4-d072-4ee2-e94e-2c450f81ebe5",
        "colab": {
          "base_uri": "https://localhost:8080/",
          "height": 77
        }
      },
      "source": [
        "car_service[(car_service.public_name == 'Paris/Exelmans/32') & (car_service.hour == 14)][['public_name', 'postal_code']].head(1)"
      ],
      "execution_count": 0,
      "outputs": [
        {
          "output_type": "execute_result",
          "data": {
            "text/html": [
              "<div>\n",
              "<style scoped>\n",
              "    .dataframe tbody tr th:only-of-type {\n",
              "        vertical-align: middle;\n",
              "    }\n",
              "\n",
              "    .dataframe tbody tr th {\n",
              "        vertical-align: top;\n",
              "    }\n",
              "\n",
              "    .dataframe thead th {\n",
              "        text-align: right;\n",
              "    }\n",
              "</style>\n",
              "<table border=\"1\" class=\"dataframe\">\n",
              "  <thead>\n",
              "    <tr style=\"text-align: right;\">\n",
              "      <th></th>\n",
              "      <th>public_name</th>\n",
              "      <th>postal_code</th>\n",
              "    </tr>\n",
              "  </thead>\n",
              "  <tbody>\n",
              "    <tr>\n",
              "      <th>949524</th>\n",
              "      <td>Paris/Exelmans/32</td>\n",
              "      <td>75016</td>\n",
              "    </tr>\n",
              "  </tbody>\n",
              "</table>\n",
              "</div>"
            ],
            "text/plain": [
              "              public_name  postal_code\n",
              "949524  Paris/Exelmans/32        75016"
            ]
          },
          "metadata": {
            "tags": []
          },
          "execution_count": 48
        }
      ]
    },
    {
      "cell_type": "markdown",
      "metadata": {
        "id": "7SIkw-cQu5KO",
        "colab_type": "text"
      },
      "source": [
        "The most popular station does not belong to the postal code at the most popular picking hour."
      ]
    },
    {
      "cell_type": "markdown",
      "metadata": {
        "id": "CPpe-MibvLgj",
        "colab_type": "text"
      },
      "source": [
        "## Utilib Analysis "
      ]
    },
    {
      "cell_type": "markdown",
      "metadata": {
        "id": "rJzahW6RvNjI",
        "colab_type": "text"
      },
      "source": [
        "#### Using Utilib instead of  Bluecars"
      ]
    },
    {
      "cell_type": "code",
      "metadata": {
        "id": "f_qWRkkkuZxk",
        "colab_type": "code",
        "outputId": "0e5ae0f1-982b-4b0d-d2bf-dc1ba5783fbc",
        "colab": {
          "base_uri": "https://localhost:8080/",
          "height": 34
        }
      },
      "source": [
        "car_service.utilib_use.unique()"
      ],
      "execution_count": 0,
      "outputs": [
        {
          "output_type": "execute_result",
          "data": {
            "text/plain": [
              "array([nan, -1.,  0.,  1.,  2., -2.,  3., -3.,  4., -4.])"
            ]
          },
          "metadata": {
            "tags": []
          },
          "execution_count": 56
        }
      ]
    },
    {
      "cell_type": "markdown",
      "metadata": {
        "id": "UdJxWItJv0rW",
        "colab_type": "text"
      },
      "source": [
        "This is the range of the differences logged in the Utilib_use column.\n",
        "The maximum negative number (-4) shows when the picking of the cars was highest.\n",
        "Similly, the maximum positive number (4) shows when the returning of the cars was highest."
      ]
    },
    {
      "cell_type": "markdown",
      "metadata": {
        "colab_type": "text",
        "id": "4R7NTOZe3C9-"
      },
      "source": [
        "#### What is the most popular hour of the day for picking up a shared electric car in the city of Paris over the month of April 2018 ? (Specifically Utilib)"
      ]
    },
    {
      "cell_type": "code",
      "metadata": {
        "colab_type": "code",
        "outputId": "6f59dbc4-e9c7-406b-b449-12a1ec85b9fd",
        "id": "kkatKgNU3QFG",
        "colab": {
          "base_uri": "https://localhost:8080/",
          "height": 67
        }
      },
      "source": [
        "car_service[(car_service.city == 'Paris') & (car_service.utilib_use.min() < 0 )].groupby('hour')['hour'].count().sort_values(ascending = False).head(1)"
      ],
      "execution_count": 0,
      "outputs": [
        {
          "output_type": "execute_result",
          "data": {
            "text/plain": [
              "hour\n",
              "19    13200\n",
              "Name: hour, dtype: int64"
            ]
          },
          "metadata": {
            "tags": []
          },
          "execution_count": 57
        }
      ]
    },
    {
      "cell_type": "markdown",
      "metadata": {
        "colab_type": "text",
        "id": "hTWS8f_J3y3V"
      },
      "source": [
        "#### What is the most popular hour for returning cars?"
      ]
    },
    {
      "cell_type": "code",
      "metadata": {
        "colab_type": "code",
        "outputId": "b060289e-51fc-4b4b-9241-dfa5fec0a9e6",
        "id": "GP2Eu1pQ37OV",
        "colab": {
          "base_uri": "https://localhost:8080/",
          "height": 67
        }
      },
      "source": [
        "car_service[car_service.utilib_use > 0 ].groupby('hour')['hour'].count().sort_values(ascending = False).head(1)"
      ],
      "execution_count": 0,
      "outputs": [
        {
          "output_type": "execute_result",
          "data": {
            "text/plain": [
              "hour\n",
              "19    1303\n",
              "Name: hour, dtype: int64"
            ]
          },
          "metadata": {
            "tags": []
          },
          "execution_count": 53
        }
      ]
    },
    {
      "cell_type": "markdown",
      "metadata": {
        "colab_type": "text",
        "id": "71PdfCst4HQQ"
      },
      "source": [
        "#### What station is the most popular overall ?"
      ]
    },
    {
      "cell_type": "code",
      "metadata": {
        "colab_type": "code",
        "outputId": "c29e0989-9b01-47bc-a8ba-839a6a9023f9",
        "id": "w5DDzVLO4N-4",
        "colab": {
          "base_uri": "https://localhost:8080/",
          "height": 106
        }
      },
      "source": [
        "car_service[(car_service.kind == 'STATION') & (car_service.status == 'ok')].groupby('public_name')[['kind']].count().sort_values(by = 'kind', ascending  = False).head(1)"
      ],
      "execution_count": 0,
      "outputs": [
        {
          "output_type": "execute_result",
          "data": {
            "text/html": [
              "<div>\n",
              "<style scoped>\n",
              "    .dataframe tbody tr th:only-of-type {\n",
              "        vertical-align: middle;\n",
              "    }\n",
              "\n",
              "    .dataframe tbody tr th {\n",
              "        vertical-align: top;\n",
              "    }\n",
              "\n",
              "    .dataframe thead th {\n",
              "        text-align: right;\n",
              "    }\n",
              "</style>\n",
              "<table border=\"1\" class=\"dataframe\">\n",
              "  <thead>\n",
              "    <tr style=\"text-align: right;\">\n",
              "      <th></th>\n",
              "      <th>kind</th>\n",
              "    </tr>\n",
              "    <tr>\n",
              "      <th>public_name</th>\n",
              "      <th></th>\n",
              "    </tr>\n",
              "  </thead>\n",
              "  <tbody>\n",
              "    <tr>\n",
              "      <th>Boulogne-Billancourt/Jean JaurÃ¨s/245</th>\n",
              "      <td>606</td>\n",
              "    </tr>\n",
              "  </tbody>\n",
              "</table>\n",
              "</div>"
            ],
            "text/plain": [
              "                                       kind\n",
              "public_name                                \n",
              "Boulogne-Billancourt/Jean JaurÃ¨s/245   606"
            ]
          },
          "metadata": {
            "tags": []
          },
          "execution_count": 54
        }
      ]
    },
    {
      "cell_type": "markdown",
      "metadata": {
        "colab_type": "text",
        "id": "HLvC9XRN4Ywj"
      },
      "source": [
        "#### What is the most popular station at the most popular hour ?"
      ]
    },
    {
      "cell_type": "code",
      "metadata": {
        "colab_type": "code",
        "outputId": "ea94cdb3-2f8c-477a-d814-bb29c25ce2e6",
        "id": "f6a68COV4lUY",
        "colab": {
          "base_uri": "https://localhost:8080/",
          "height": 106
        }
      },
      "source": [
        "car_service[(car_service.kind == 'STATION') & (car_service.hour == 19)  & (car_service.status == 'ok')].groupby('public_name').count()[['kind']].sort_values(by = 'kind', ascending = False).head(1)"
      ],
      "execution_count": 0,
      "outputs": [
        {
          "output_type": "execute_result",
          "data": {
            "text/html": [
              "<div>\n",
              "<style scoped>\n",
              "    .dataframe tbody tr th:only-of-type {\n",
              "        vertical-align: middle;\n",
              "    }\n",
              "\n",
              "    .dataframe tbody tr th {\n",
              "        vertical-align: top;\n",
              "    }\n",
              "\n",
              "    .dataframe thead th {\n",
              "        text-align: right;\n",
              "    }\n",
              "</style>\n",
              "<table border=\"1\" class=\"dataframe\">\n",
              "  <thead>\n",
              "    <tr style=\"text-align: right;\">\n",
              "      <th></th>\n",
              "      <th>kind</th>\n",
              "    </tr>\n",
              "    <tr>\n",
              "      <th>public_name</th>\n",
              "      <th></th>\n",
              "    </tr>\n",
              "  </thead>\n",
              "  <tbody>\n",
              "    <tr>\n",
              "      <th>Boulogne-Billancourt/Jean JaurÃ¨s/245</th>\n",
              "      <td>42</td>\n",
              "    </tr>\n",
              "  </tbody>\n",
              "</table>\n",
              "</div>"
            ],
            "text/plain": [
              "                                       kind\n",
              "public_name                                \n",
              "Boulogne-Billancourt/Jean JaurÃ¨s/245    42"
            ]
          },
          "metadata": {
            "tags": []
          },
          "execution_count": 58
        }
      ]
    },
    {
      "cell_type": "markdown",
      "metadata": {
        "colab_type": "text",
        "id": "RpafM3lQ5tsw"
      },
      "source": [
        "#### What postal code is most popular when picking up Bluecars ?"
      ]
    },
    {
      "cell_type": "code",
      "metadata": {
        "colab_type": "code",
        "outputId": "04a5d08b-081a-4953-d684-c2deaab015eb",
        "id": "Qwy5wQm45zA_",
        "colab": {
          "base_uri": "https://localhost:8080/",
          "height": 106
        }
      },
      "source": [
        "car_service[car_service.utilib_use < 0].groupby('postal_code').count()[['utilib_use']].sort_values(by = 'utilib_use', ascending = False).head(1)"
      ],
      "execution_count": 0,
      "outputs": [
        {
          "output_type": "execute_result",
          "data": {
            "text/html": [
              "<div>\n",
              "<style scoped>\n",
              "    .dataframe tbody tr th:only-of-type {\n",
              "        vertical-align: middle;\n",
              "    }\n",
              "\n",
              "    .dataframe tbody tr th {\n",
              "        vertical-align: top;\n",
              "    }\n",
              "\n",
              "    .dataframe thead th {\n",
              "        text-align: right;\n",
              "    }\n",
              "</style>\n",
              "<table border=\"1\" class=\"dataframe\">\n",
              "  <thead>\n",
              "    <tr style=\"text-align: right;\">\n",
              "      <th></th>\n",
              "      <th>utilib_use</th>\n",
              "    </tr>\n",
              "    <tr>\n",
              "      <th>postal_code</th>\n",
              "      <th></th>\n",
              "    </tr>\n",
              "  </thead>\n",
              "  <tbody>\n",
              "    <tr>\n",
              "      <th>75015</th>\n",
              "      <td>1521</td>\n",
              "    </tr>\n",
              "  </tbody>\n",
              "</table>\n",
              "</div>"
            ],
            "text/plain": [
              "             utilib_use\n",
              "postal_code            \n",
              "75015              1521"
            ]
          },
          "metadata": {
            "tags": []
          },
          "execution_count": 59
        }
      ]
    },
    {
      "cell_type": "markdown",
      "metadata": {
        "colab_type": "text",
        "id": "s7-pfxlK54OW"
      },
      "source": [
        "#### What postal code is the most popular for picking up Bluecars at the most popular picking hour?"
      ]
    },
    {
      "cell_type": "code",
      "metadata": {
        "colab_type": "code",
        "outputId": "9ad16b85-2acb-4a9f-a1b3-2bc9e4315ad7",
        "id": "aJygfB2x5-YB",
        "colab": {
          "base_uri": "https://localhost:8080/",
          "height": 106
        }
      },
      "source": [
        "car_service[(car_service.utilib_use < 0) & (car_service.hour == 19)].groupby('postal_code').count()[['utilib_use']].sort_values(by = 'utilib_use', ascending = False).head(1)"
      ],
      "execution_count": 0,
      "outputs": [
        {
          "output_type": "execute_result",
          "data": {
            "text/html": [
              "<div>\n",
              "<style scoped>\n",
              "    .dataframe tbody tr th:only-of-type {\n",
              "        vertical-align: middle;\n",
              "    }\n",
              "\n",
              "    .dataframe tbody tr th {\n",
              "        vertical-align: top;\n",
              "    }\n",
              "\n",
              "    .dataframe thead th {\n",
              "        text-align: right;\n",
              "    }\n",
              "</style>\n",
              "<table border=\"1\" class=\"dataframe\">\n",
              "  <thead>\n",
              "    <tr style=\"text-align: right;\">\n",
              "      <th></th>\n",
              "      <th>utilib_use</th>\n",
              "    </tr>\n",
              "    <tr>\n",
              "      <th>postal_code</th>\n",
              "      <th></th>\n",
              "    </tr>\n",
              "  </thead>\n",
              "  <tbody>\n",
              "    <tr>\n",
              "      <th>75015</th>\n",
              "      <td>92</td>\n",
              "    </tr>\n",
              "  </tbody>\n",
              "</table>\n",
              "</div>"
            ],
            "text/plain": [
              "             utilib_use\n",
              "postal_code            \n",
              "75015                92"
            ]
          },
          "metadata": {
            "tags": []
          },
          "execution_count": 61
        }
      ]
    },
    {
      "cell_type": "markdown",
      "metadata": {
        "colab_type": "text",
        "id": "rdRWqPvn6HQZ"
      },
      "source": [
        "#### Does the most popular station belong to that postal code overall ?"
      ]
    },
    {
      "cell_type": "code",
      "metadata": {
        "colab_type": "code",
        "outputId": "e6f23967-4f8a-43f4-c43f-d8882a6b66a7",
        "id": "sxhzv86t6QhM",
        "colab": {
          "base_uri": "https://localhost:8080/",
          "height": 77
        }
      },
      "source": [
        "car_service[car_service.public_name == 'Boulogne-Billancourt/Jean JaurÃ¨s/245'][['public_name', 'postal_code']].head(1)"
      ],
      "execution_count": 0,
      "outputs": [
        {
          "output_type": "execute_result",
          "data": {
            "text/html": [
              "<div>\n",
              "<style scoped>\n",
              "    .dataframe tbody tr th:only-of-type {\n",
              "        vertical-align: middle;\n",
              "    }\n",
              "\n",
              "    .dataframe tbody tr th {\n",
              "        vertical-align: top;\n",
              "    }\n",
              "\n",
              "    .dataframe thead th {\n",
              "        text-align: right;\n",
              "    }\n",
              "</style>\n",
              "<table border=\"1\" class=\"dataframe\">\n",
              "  <thead>\n",
              "    <tr style=\"text-align: right;\">\n",
              "      <th></th>\n",
              "      <th>public_name</th>\n",
              "      <th>postal_code</th>\n",
              "    </tr>\n",
              "  </thead>\n",
              "  <tbody>\n",
              "    <tr>\n",
              "      <th>522</th>\n",
              "      <td>Boulogne-Billancourt/Jean JaurÃ¨s/245</td>\n",
              "      <td>92100</td>\n",
              "    </tr>\n",
              "  </tbody>\n",
              "</table>\n",
              "</div>"
            ],
            "text/plain": [
              "                               public_name  postal_code\n",
              "522  Boulogne-Billancourt/Jean JaurÃ¨s/245        92100"
            ]
          },
          "metadata": {
            "tags": []
          },
          "execution_count": 47
        }
      ]
    },
    {
      "cell_type": "markdown",
      "metadata": {
        "colab_type": "text",
        "id": "5AH_Ugxx6XZM"
      },
      "source": [
        "#### Does the most popular station belong to that postal code at the most popular picking hour?"
      ]
    },
    {
      "cell_type": "code",
      "metadata": {
        "colab_type": "code",
        "outputId": "738178f4-d072-4ee2-e94e-2c450f81ebe5",
        "id": "hR9lyV7Y6ecA",
        "colab": {
          "base_uri": "https://localhost:8080/",
          "height": 77
        }
      },
      "source": [
        "car_service[(car_service.public_name == 'Paris/Exelmans/32') & (car_service.hour == 14)][['public_name', 'postal_code']].head(1)"
      ],
      "execution_count": 0,
      "outputs": [
        {
          "output_type": "execute_result",
          "data": {
            "text/html": [
              "<div>\n",
              "<style scoped>\n",
              "    .dataframe tbody tr th:only-of-type {\n",
              "        vertical-align: middle;\n",
              "    }\n",
              "\n",
              "    .dataframe tbody tr th {\n",
              "        vertical-align: top;\n",
              "    }\n",
              "\n",
              "    .dataframe thead th {\n",
              "        text-align: right;\n",
              "    }\n",
              "</style>\n",
              "<table border=\"1\" class=\"dataframe\">\n",
              "  <thead>\n",
              "    <tr style=\"text-align: right;\">\n",
              "      <th></th>\n",
              "      <th>public_name</th>\n",
              "      <th>postal_code</th>\n",
              "    </tr>\n",
              "  </thead>\n",
              "  <tbody>\n",
              "    <tr>\n",
              "      <th>949524</th>\n",
              "      <td>Paris/Exelmans/32</td>\n",
              "      <td>75016</td>\n",
              "    </tr>\n",
              "  </tbody>\n",
              "</table>\n",
              "</div>"
            ],
            "text/plain": [
              "              public_name  postal_code\n",
              "949524  Paris/Exelmans/32        75016"
            ]
          },
          "metadata": {
            "tags": []
          },
          "execution_count": 48
        }
      ]
    },
    {
      "cell_type": "markdown",
      "metadata": {
        "id": "ngT5YgUY8rN-",
        "colab_type": "text"
      },
      "source": [
        "## Utilib 1.4"
      ]
    },
    {
      "cell_type": "markdown",
      "metadata": {
        "colab_type": "text",
        "id": "arCOV-jE8y1v"
      },
      "source": [
        "#### Using Utilib 1.4  instead of  Bluecars"
      ]
    },
    {
      "cell_type": "code",
      "metadata": {
        "colab_type": "code",
        "outputId": "5c09b93f-439c-48a9-d01e-e06d7f9ea84c",
        "id": "Pygxid6T9BFJ",
        "colab": {
          "base_uri": "https://localhost:8080/",
          "height": 34
        }
      },
      "source": [
        "car_service.utilib_14_use.unique()"
      ],
      "execution_count": 0,
      "outputs": [
        {
          "output_type": "execute_result",
          "data": {
            "text/plain": [
              "array([nan,  0.,  1., -1.,  2., -2., -3.,  3.,  4., -4.])"
            ]
          },
          "metadata": {
            "tags": []
          },
          "execution_count": 62
        }
      ]
    },
    {
      "cell_type": "markdown",
      "metadata": {
        "colab_type": "text",
        "id": "qNE5jNOg85Bx"
      },
      "source": [
        "This is the range of the differences logged in the Utilib_use column.\n",
        "The maximum negative number (-4) shows when the picking of the cars was highest.\n",
        "Similly, the maximum positive number (0) shows when the returning of the cars was highest."
      ]
    },
    {
      "cell_type": "markdown",
      "metadata": {
        "colab_type": "text",
        "id": "VjtMGdbg9UBS"
      },
      "source": [
        "#### What is the most popular hour of the day for picking up a shared electric car in the city of Paris over the month of April 2018 ? (Specifically Utilib 1.4)"
      ]
    },
    {
      "cell_type": "code",
      "metadata": {
        "id": "FitKYmMn9OKq",
        "colab_type": "code",
        "outputId": "707750b2-75ba-47a8-fdf5-9f6352d1b4f6",
        "colab": {
          "base_uri": "https://localhost:8080/",
          "height": 67
        }
      },
      "source": [
        "car_service[(car_service.city == 'Paris') & (car_service.utilib_14_use.min() < 0 )].groupby('hour')['hour'].count().sort_values(ascending = False).head(1)"
      ],
      "execution_count": 0,
      "outputs": [
        {
          "output_type": "execute_result",
          "data": {
            "text/plain": [
              "hour\n",
              "19    13200\n",
              "Name: hour, dtype: int64"
            ]
          },
          "metadata": {
            "tags": []
          },
          "execution_count": 63
        }
      ]
    },
    {
      "cell_type": "markdown",
      "metadata": {
        "colab_type": "text",
        "id": "9MTT4eGq9uI8"
      },
      "source": [
        "#### What is the most popular hour for returning cars?"
      ]
    },
    {
      "cell_type": "code",
      "metadata": {
        "id": "kMkd9ggE9xID",
        "colab_type": "code",
        "outputId": "12109d63-03dc-43ec-cba1-add90210ca20",
        "colab": {
          "base_uri": "https://localhost:8080/",
          "height": 67
        }
      },
      "source": [
        "car_service[car_service.utilib_14_use > 0 ].groupby('hour')['hour'].count().sort_values(ascending = False).head(1)"
      ],
      "execution_count": 0,
      "outputs": [
        {
          "output_type": "execute_result",
          "data": {
            "text/plain": [
              "hour\n",
              "20    2377\n",
              "Name: hour, dtype: int64"
            ]
          },
          "metadata": {
            "tags": []
          },
          "execution_count": 64
        }
      ]
    },
    {
      "cell_type": "markdown",
      "metadata": {
        "colab_type": "text",
        "id": "UqEctWTO-ACD"
      },
      "source": [
        "#### What station is the most popular overall ?"
      ]
    },
    {
      "cell_type": "code",
      "metadata": {
        "id": "R26-7RGv-Cq8",
        "colab_type": "code",
        "outputId": "b45796fb-4443-405f-9eae-7d8103e46dfd",
        "colab": {
          "base_uri": "https://localhost:8080/",
          "height": 106
        }
      },
      "source": [
        "car_service[(car_service.kind == 'STATION') & (car_service.status == 'ok')].groupby('public_name')[['kind']].count().sort_values(by = 'kind', ascending  = False).head(1)"
      ],
      "execution_count": 0,
      "outputs": [
        {
          "output_type": "execute_result",
          "data": {
            "text/html": [
              "<div>\n",
              "<style scoped>\n",
              "    .dataframe tbody tr th:only-of-type {\n",
              "        vertical-align: middle;\n",
              "    }\n",
              "\n",
              "    .dataframe tbody tr th {\n",
              "        vertical-align: top;\n",
              "    }\n",
              "\n",
              "    .dataframe thead th {\n",
              "        text-align: right;\n",
              "    }\n",
              "</style>\n",
              "<table border=\"1\" class=\"dataframe\">\n",
              "  <thead>\n",
              "    <tr style=\"text-align: right;\">\n",
              "      <th></th>\n",
              "      <th>kind</th>\n",
              "    </tr>\n",
              "    <tr>\n",
              "      <th>public_name</th>\n",
              "      <th></th>\n",
              "    </tr>\n",
              "  </thead>\n",
              "  <tbody>\n",
              "    <tr>\n",
              "      <th>Boulogne-Billancourt/Jean JaurÃ¨s/245</th>\n",
              "      <td>606</td>\n",
              "    </tr>\n",
              "  </tbody>\n",
              "</table>\n",
              "</div>"
            ],
            "text/plain": [
              "                                       kind\n",
              "public_name                                \n",
              "Boulogne-Billancourt/Jean JaurÃ¨s/245   606"
            ]
          },
          "metadata": {
            "tags": []
          },
          "execution_count": 65
        }
      ]
    },
    {
      "cell_type": "markdown",
      "metadata": {
        "colab_type": "text",
        "id": "u6srqxWK-Pov"
      },
      "source": [
        "#### What is the most popular station at the most popular hour ?"
      ]
    },
    {
      "cell_type": "code",
      "metadata": {
        "id": "ingYt0qB-QsI",
        "colab_type": "code",
        "outputId": "b86f34c8-2cd1-42b1-ed2e-8b9ce49fb4b4",
        "colab": {
          "base_uri": "https://localhost:8080/",
          "height": 106
        }
      },
      "source": [
        "car_service[(car_service.kind == 'STATION') & (car_service.hour == 19)  & (car_service.status == 'ok')].groupby('public_name').count()[['kind']].sort_values(by = 'kind', ascending = False).head(1)"
      ],
      "execution_count": 0,
      "outputs": [
        {
          "output_type": "execute_result",
          "data": {
            "text/html": [
              "<div>\n",
              "<style scoped>\n",
              "    .dataframe tbody tr th:only-of-type {\n",
              "        vertical-align: middle;\n",
              "    }\n",
              "\n",
              "    .dataframe tbody tr th {\n",
              "        vertical-align: top;\n",
              "    }\n",
              "\n",
              "    .dataframe thead th {\n",
              "        text-align: right;\n",
              "    }\n",
              "</style>\n",
              "<table border=\"1\" class=\"dataframe\">\n",
              "  <thead>\n",
              "    <tr style=\"text-align: right;\">\n",
              "      <th></th>\n",
              "      <th>kind</th>\n",
              "    </tr>\n",
              "    <tr>\n",
              "      <th>public_name</th>\n",
              "      <th></th>\n",
              "    </tr>\n",
              "  </thead>\n",
              "  <tbody>\n",
              "    <tr>\n",
              "      <th>Boulogne-Billancourt/Jean JaurÃ¨s/245</th>\n",
              "      <td>42</td>\n",
              "    </tr>\n",
              "  </tbody>\n",
              "</table>\n",
              "</div>"
            ],
            "text/plain": [
              "                                       kind\n",
              "public_name                                \n",
              "Boulogne-Billancourt/Jean JaurÃ¨s/245    42"
            ]
          },
          "metadata": {
            "tags": []
          },
          "execution_count": 66
        }
      ]
    },
    {
      "cell_type": "markdown",
      "metadata": {
        "colab_type": "text",
        "id": "6_FIPM1R-fQM"
      },
      "source": [
        "#### What postal code is most popular when picking up Utilib cars ?"
      ]
    },
    {
      "cell_type": "code",
      "metadata": {
        "id": "C42M2NOc-hVw",
        "colab_type": "code",
        "outputId": "c7a50af0-98af-4809-fc99-3c82aff3f603",
        "colab": {
          "base_uri": "https://localhost:8080/",
          "height": 106
        }
      },
      "source": [
        "car_service[car_service.utilib_use < 0].groupby('postal_code').count()[['utilib_use']].sort_values(by = 'utilib_use', ascending = False).head(1)"
      ],
      "execution_count": 0,
      "outputs": [
        {
          "output_type": "execute_result",
          "data": {
            "text/html": [
              "<div>\n",
              "<style scoped>\n",
              "    .dataframe tbody tr th:only-of-type {\n",
              "        vertical-align: middle;\n",
              "    }\n",
              "\n",
              "    .dataframe tbody tr th {\n",
              "        vertical-align: top;\n",
              "    }\n",
              "\n",
              "    .dataframe thead th {\n",
              "        text-align: right;\n",
              "    }\n",
              "</style>\n",
              "<table border=\"1\" class=\"dataframe\">\n",
              "  <thead>\n",
              "    <tr style=\"text-align: right;\">\n",
              "      <th></th>\n",
              "      <th>utilib_use</th>\n",
              "    </tr>\n",
              "    <tr>\n",
              "      <th>postal_code</th>\n",
              "      <th></th>\n",
              "    </tr>\n",
              "  </thead>\n",
              "  <tbody>\n",
              "    <tr>\n",
              "      <th>75015</th>\n",
              "      <td>1521</td>\n",
              "    </tr>\n",
              "  </tbody>\n",
              "</table>\n",
              "</div>"
            ],
            "text/plain": [
              "             utilib_use\n",
              "postal_code            \n",
              "75015              1521"
            ]
          },
          "metadata": {
            "tags": []
          },
          "execution_count": 67
        }
      ]
    },
    {
      "cell_type": "markdown",
      "metadata": {
        "colab_type": "text",
        "id": "K_16-c27-qB0"
      },
      "source": [
        "#### What postal code is the most popular for picking up Utilib cars at the most popular picking hour?"
      ]
    },
    {
      "cell_type": "code",
      "metadata": {
        "id": "ajqUCbHS-qq-",
        "colab_type": "code",
        "outputId": "18702333-a92e-4ba4-f06a-4983a7720eb0",
        "colab": {
          "base_uri": "https://localhost:8080/",
          "height": 106
        }
      },
      "source": [
        "car_service[(car_service.utilib_use < 0) & (car_service.hour == 19)].groupby('postal_code').count()[['utilib_use']].sort_values(by = 'utilib_use', ascending = False).head(1)"
      ],
      "execution_count": 0,
      "outputs": [
        {
          "output_type": "execute_result",
          "data": {
            "text/html": [
              "<div>\n",
              "<style scoped>\n",
              "    .dataframe tbody tr th:only-of-type {\n",
              "        vertical-align: middle;\n",
              "    }\n",
              "\n",
              "    .dataframe tbody tr th {\n",
              "        vertical-align: top;\n",
              "    }\n",
              "\n",
              "    .dataframe thead th {\n",
              "        text-align: right;\n",
              "    }\n",
              "</style>\n",
              "<table border=\"1\" class=\"dataframe\">\n",
              "  <thead>\n",
              "    <tr style=\"text-align: right;\">\n",
              "      <th></th>\n",
              "      <th>utilib_use</th>\n",
              "    </tr>\n",
              "    <tr>\n",
              "      <th>postal_code</th>\n",
              "      <th></th>\n",
              "    </tr>\n",
              "  </thead>\n",
              "  <tbody>\n",
              "    <tr>\n",
              "      <th>75015</th>\n",
              "      <td>92</td>\n",
              "    </tr>\n",
              "  </tbody>\n",
              "</table>\n",
              "</div>"
            ],
            "text/plain": [
              "             utilib_use\n",
              "postal_code            \n",
              "75015                92"
            ]
          },
          "metadata": {
            "tags": []
          },
          "execution_count": 68
        }
      ]
    },
    {
      "cell_type": "markdown",
      "metadata": {
        "colab_type": "text",
        "id": "GlYVopN--zkf"
      },
      "source": [
        "#### Does the most popular station belong to that postal code overall ?"
      ]
    },
    {
      "cell_type": "code",
      "metadata": {
        "id": "U0i3F2RP-073",
        "colab_type": "code",
        "outputId": "9e57fd4f-f817-41b8-dd05-58b6dbdfb2d7",
        "colab": {
          "base_uri": "https://localhost:8080/",
          "height": 77
        }
      },
      "source": [
        "car_service[car_service.public_name == 'Boulogne-Billancourt/Jean JaurÃ¨s/245'][['public_name', 'postal_code']].head(1)"
      ],
      "execution_count": 0,
      "outputs": [
        {
          "output_type": "execute_result",
          "data": {
            "text/html": [
              "<div>\n",
              "<style scoped>\n",
              "    .dataframe tbody tr th:only-of-type {\n",
              "        vertical-align: middle;\n",
              "    }\n",
              "\n",
              "    .dataframe tbody tr th {\n",
              "        vertical-align: top;\n",
              "    }\n",
              "\n",
              "    .dataframe thead th {\n",
              "        text-align: right;\n",
              "    }\n",
              "</style>\n",
              "<table border=\"1\" class=\"dataframe\">\n",
              "  <thead>\n",
              "    <tr style=\"text-align: right;\">\n",
              "      <th></th>\n",
              "      <th>public_name</th>\n",
              "      <th>postal_code</th>\n",
              "    </tr>\n",
              "  </thead>\n",
              "  <tbody>\n",
              "    <tr>\n",
              "      <th>522</th>\n",
              "      <td>Boulogne-Billancourt/Jean JaurÃ¨s/245</td>\n",
              "      <td>92100</td>\n",
              "    </tr>\n",
              "  </tbody>\n",
              "</table>\n",
              "</div>"
            ],
            "text/plain": [
              "                               public_name  postal_code\n",
              "522  Boulogne-Billancourt/Jean JaurÃ¨s/245        92100"
            ]
          },
          "metadata": {
            "tags": []
          },
          "execution_count": 69
        }
      ]
    },
    {
      "cell_type": "markdown",
      "metadata": {
        "colab_type": "text",
        "id": "7DqpDyH6-9PS"
      },
      "source": [
        "#### Does the most popular station belong to that postal code at the most popular picking hour?"
      ]
    },
    {
      "cell_type": "code",
      "metadata": {
        "id": "3W9qgypb-9vj",
        "colab_type": "code",
        "outputId": "63f12d40-ef40-4f3c-ac30-cabd10f7320e",
        "colab": {
          "base_uri": "https://localhost:8080/",
          "height": 77
        }
      },
      "source": [
        "car_service[(car_service.public_name == 'Paris/Exelmans/32') & (car_service.hour == 19)][['public_name', 'postal_code']].head(1)"
      ],
      "execution_count": 0,
      "outputs": [
        {
          "output_type": "execute_result",
          "data": {
            "text/html": [
              "<div>\n",
              "<style scoped>\n",
              "    .dataframe tbody tr th:only-of-type {\n",
              "        vertical-align: middle;\n",
              "    }\n",
              "\n",
              "    .dataframe tbody tr th {\n",
              "        vertical-align: top;\n",
              "    }\n",
              "\n",
              "    .dataframe thead th {\n",
              "        text-align: right;\n",
              "    }\n",
              "</style>\n",
              "<table border=\"1\" class=\"dataframe\">\n",
              "  <thead>\n",
              "    <tr style=\"text-align: right;\">\n",
              "      <th></th>\n",
              "      <th>public_name</th>\n",
              "      <th>postal_code</th>\n",
              "    </tr>\n",
              "  </thead>\n",
              "  <tbody>\n",
              "    <tr>\n",
              "      <th>1288463</th>\n",
              "      <td>Paris/Exelmans/32</td>\n",
              "      <td>75016</td>\n",
              "    </tr>\n",
              "  </tbody>\n",
              "</table>\n",
              "</div>"
            ],
            "text/plain": [
              "               public_name  postal_code\n",
              "1288463  Paris/Exelmans/32        75016"
            ]
          },
          "metadata": {
            "tags": []
          },
          "execution_count": 70
        }
      ]
    }
  ]
}